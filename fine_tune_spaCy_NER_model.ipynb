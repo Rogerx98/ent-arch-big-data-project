{
  "nbformat": 4,
  "nbformat_minor": 0,
  "metadata": {
    "colab": {
      "name": "fine-tune_spaCy_NER_model.ipynb",
      "provenance": [],
      "mount_file_id": "1XvU5n3esChKpds3IQi-R1bUMC-QGVmtR",
      "authorship_tag": "ABX9TyORRTtBCht8LIApsyzOn4fa",
      "include_colab_link": true
    },
    "kernelspec": {
      "name": "python3",
      "display_name": "Python 3"
    },
    "language_info": {
      "name": "python"
    },
    "accelerator": "GPU",
    "gpuClass": "standard"
  },
  "cells": [
    {
      "cell_type": "markdown",
      "metadata": {
        "id": "view-in-github",
        "colab_type": "text"
      },
      "source": [
        "<a href=\"https://colab.research.google.com/github/Rogerx98/ent-arch-big-data-project/blob/main/fine_tune_spaCy_NER_model.ipynb\" target=\"_parent\"><img src=\"https://colab.research.google.com/assets/colab-badge.svg\" alt=\"Open In Colab\"/></a>"
      ]
    },
    {
      "cell_type": "markdown",
      "source": [
        "#Spacy NER Model \n",
        "\n",
        "In this Notebook we fine-tune a BERT Transformer with spaCy 3 to extract entities such as skills, degree and years of experience out of the full job description.\n",
        "The train and test files (train.tsv, test.tsv) were downloaded from this github repository https://github.com/UBIAI/Fine_tune_BERT_with_spacy3. The training is based on the spacy 3 documentation: https://spacy.io/usage/training#basics"
      ],
      "metadata": {
        "id": "e1U1I40rcum7"
      }
    },
    {
      "cell_type": "markdown",
      "source": [
        "### Fine-tune spaCy model with train and test data"
      ],
      "metadata": {
        "id": "iWF9ipfffsWQ"
      }
    },
    {
      "cell_type": "code",
      "source": [
        "!nvidia-smi # check if GPU is running"
      ],
      "metadata": {
        "colab": {
          "base_uri": "https://localhost:8080/"
        },
        "id": "k9FgV9XrSCmr",
        "outputId": "e3edfb2c-e9c0-4ae0-c6d1-63088d74d6fa"
      },
      "execution_count": 2,
      "outputs": [
        {
          "output_type": "stream",
          "name": "stdout",
          "text": [
            "Sat Jul 16 09:07:52 2022       \n",
            "+-----------------------------------------------------------------------------+\n",
            "| NVIDIA-SMI 460.32.03    Driver Version: 460.32.03    CUDA Version: 11.2     |\n",
            "|-------------------------------+----------------------+----------------------+\n",
            "| GPU  Name        Persistence-M| Bus-Id        Disp.A | Volatile Uncorr. ECC |\n",
            "| Fan  Temp  Perf  Pwr:Usage/Cap|         Memory-Usage | GPU-Util  Compute M. |\n",
            "|                               |                      |               MIG M. |\n",
            "|===============================+======================+======================|\n",
            "|   0  Tesla P100-PCIE...  Off  | 00000000:00:04.0 Off |                    0 |\n",
            "| N/A   44C    P0    29W / 250W |      0MiB / 16280MiB |      0%      Default |\n",
            "|                               |                      |                  N/A |\n",
            "+-------------------------------+----------------------+----------------------+\n",
            "                                                                               \n",
            "+-----------------------------------------------------------------------------+\n",
            "| Processes:                                                                  |\n",
            "|  GPU   GI   CI        PID   Type   Process name                  GPU Memory |\n",
            "|        ID   ID                                                   Usage      |\n",
            "|=============================================================================|\n",
            "|  No running processes found                                                 |\n",
            "+-----------------------------------------------------------------------------+\n"
          ]
        }
      ]
    },
    {
      "cell_type": "code",
      "source": [
        "#Mount drive\n",
        "from google.colab import drive\n",
        "drive.mount('/content/drive')\n",
        "#set path to data in Google Drive\n",
        "data_path = \"/content/drive/MyDrive/\""
      ],
      "metadata": {
        "colab": {
          "base_uri": "https://localhost:8080/"
        },
        "id": "8NDCjswnAZ8Z",
        "outputId": "89ac819c-d25c-4cad-d0df-1326f7857ec0"
      },
      "execution_count": 17,
      "outputs": [
        {
          "output_type": "stream",
          "name": "stdout",
          "text": [
            "Drive already mounted at /content/drive; to attempt to forcibly remount, call drive.mount(\"/content/drive\", force_remount=True).\n"
          ]
        }
      ]
    },
    {
      "cell_type": "code",
      "source": [
        "import spacy"
      ],
      "metadata": {
        "id": "1iG9GrLGehn7"
      },
      "execution_count": 6,
      "outputs": []
    },
    {
      "cell_type": "code",
      "source": [
        "#convert train and test files to json format \n",
        "!python -m spacy convert \"/content/drive/MyDrive/Big Data/train.tsv\" ./ -t json -n 1 -c iob\n",
        "!python -m spacy convert \"/content/drive/MyDrive/Big Data/test.tsv\" ./ -t json -n 1 -c iob"
      ],
      "metadata": {
        "id": "BH9Iacbi-85G",
        "colab": {
          "base_uri": "https://localhost:8080/"
        },
        "outputId": "7a2211e9-dd2c-440d-b354-d4b001e43787"
      },
      "execution_count": 12,
      "outputs": [
        {
          "output_type": "stream",
          "name": "stdout",
          "text": [
            "\u001b[38;5;4mℹ Auto-detected token-per-line NER format\u001b[0m\n",
            "\u001b[38;5;3m⚠ Document delimiters found, automatic document segmentation with `-n`\n",
            "disabled.\u001b[0m\n",
            "\u001b[38;5;2m✔ Generated output file (1 documents): train.json\u001b[0m\n",
            "\u001b[38;5;4mℹ Auto-detected token-per-line NER format\u001b[0m\n",
            "\u001b[38;5;3m⚠ Document delimiters found, automatic document segmentation with `-n`\n",
            "disabled.\u001b[0m\n",
            "\u001b[38;5;2m✔ Generated output file (1 documents): test.json\u001b[0m\n"
          ]
        }
      ]
    },
    {
      "cell_type": "code",
      "source": [
        "#convert train and test json files to spacy readable format\n",
        "!python -m spacy convert train.json ./ -t spacy\n",
        "!python -m spacy convert test.json ./ -t spacy"
      ],
      "metadata": {
        "id": "Ba0l8sokA1Ot"
      },
      "execution_count": null,
      "outputs": []
    },
    {
      "cell_type": "code",
      "source": [
        "# install spacy transformer pipeline and update spacy to a specific version (to work with the transformer)\n",
        "!pip install spacy==3.3.0.dev0\n",
        "!python -m spacy download en_core_web_trf"
      ],
      "metadata": {
        "id": "cz36wla-Ca3q",
        "colab": {
          "base_uri": "https://localhost:8080/",
          "height": 1000
        },
        "outputId": "43312816-3bfb-4452-8ab5-b6206452085d"
      },
      "execution_count": 15,
      "outputs": [
        {
          "output_type": "stream",
          "name": "stdout",
          "text": [
            "Looking in indexes: https://pypi.org/simple, https://us-python.pkg.dev/colab-wheels/public/simple/\n",
            "Collecting spacy==3.3.0.dev0\n",
            "  Downloading spacy-3.3.0.dev0-cp37-cp37m-manylinux_2_17_x86_64.manylinux2014_x86_64.whl (6.2 MB)\n",
            "\u001b[K     |████████████████████████████████| 6.2 MB 8.3 MB/s \n",
            "\u001b[?25hRequirement already satisfied: spacy-legacy<3.1.0,>=3.0.9 in /usr/local/lib/python3.7/dist-packages (from spacy==3.3.0.dev0) (3.0.9)\n",
            "Requirement already satisfied: packaging>=20.0 in /usr/local/lib/python3.7/dist-packages (from spacy==3.3.0.dev0) (21.3)\n",
            "Requirement already satisfied: blis<0.8.0,>=0.4.0 in /usr/local/lib/python3.7/dist-packages (from spacy==3.3.0.dev0) (0.7.8)\n",
            "Requirement already satisfied: catalogue<2.1.0,>=2.0.6 in /usr/local/lib/python3.7/dist-packages (from spacy==3.3.0.dev0) (2.0.7)\n",
            "Requirement already satisfied: setuptools in /usr/local/lib/python3.7/dist-packages (from spacy==3.3.0.dev0) (57.4.0)\n",
            "Collecting typing-extensions<4.0.0.0,>=3.7.4\n",
            "  Downloading typing_extensions-3.10.0.2-py3-none-any.whl (26 kB)\n",
            "Requirement already satisfied: srsly<3.0.0,>=2.4.1 in /usr/local/lib/python3.7/dist-packages (from spacy==3.3.0.dev0) (2.4.3)\n",
            "Requirement already satisfied: preshed<3.1.0,>=3.0.2 in /usr/local/lib/python3.7/dist-packages (from spacy==3.3.0.dev0) (3.0.6)\n",
            "Requirement already satisfied: typer<0.5.0,>=0.3.0 in /usr/local/lib/python3.7/dist-packages (from spacy==3.3.0.dev0) (0.4.2)\n",
            "Requirement already satisfied: cymem<2.1.0,>=2.0.2 in /usr/local/lib/python3.7/dist-packages (from spacy==3.3.0.dev0) (2.0.6)\n",
            "Requirement already satisfied: spacy-loggers<2.0.0,>=1.0.0 in /usr/local/lib/python3.7/dist-packages (from spacy==3.3.0.dev0) (1.0.2)\n",
            "Requirement already satisfied: wasabi<1.1.0,>=0.8.1 in /usr/local/lib/python3.7/dist-packages (from spacy==3.3.0.dev0) (0.9.1)\n",
            "Requirement already satisfied: langcodes<4.0.0,>=3.2.0 in /usr/local/lib/python3.7/dist-packages (from spacy==3.3.0.dev0) (3.3.0)\n",
            "Requirement already satisfied: thinc<8.1.0,>=8.0.14 in /usr/local/lib/python3.7/dist-packages (from spacy==3.3.0.dev0) (8.0.17)\n",
            "Requirement already satisfied: jinja2 in /usr/local/lib/python3.7/dist-packages (from spacy==3.3.0.dev0) (2.11.3)\n",
            "Requirement already satisfied: tqdm<5.0.0,>=4.38.0 in /usr/local/lib/python3.7/dist-packages (from spacy==3.3.0.dev0) (4.64.0)\n",
            "Requirement already satisfied: requests<3.0.0,>=2.13.0 in /usr/local/lib/python3.7/dist-packages (from spacy==3.3.0.dev0) (2.23.0)\n",
            "Requirement already satisfied: murmurhash<1.1.0,>=0.28.0 in /usr/local/lib/python3.7/dist-packages (from spacy==3.3.0.dev0) (1.0.7)\n",
            "Requirement already satisfied: pydantic!=1.8,!=1.8.1,<1.9.0,>=1.7.4 in /usr/local/lib/python3.7/dist-packages (from spacy==3.3.0.dev0) (1.8.2)\n",
            "Requirement already satisfied: pathy>=0.3.5 in /usr/local/lib/python3.7/dist-packages (from spacy==3.3.0.dev0) (0.6.2)\n",
            "Requirement already satisfied: numpy>=1.15.0 in /usr/local/lib/python3.7/dist-packages (from spacy==3.3.0.dev0) (1.21.6)\n",
            "Requirement already satisfied: zipp>=0.5 in /usr/local/lib/python3.7/dist-packages (from catalogue<2.1.0,>=2.0.6->spacy==3.3.0.dev0) (3.8.0)\n",
            "Requirement already satisfied: pyparsing!=3.0.5,>=2.0.2 in /usr/local/lib/python3.7/dist-packages (from packaging>=20.0->spacy==3.3.0.dev0) (3.0.9)\n",
            "Requirement already satisfied: smart-open<6.0.0,>=5.2.1 in /usr/local/lib/python3.7/dist-packages (from pathy>=0.3.5->spacy==3.3.0.dev0) (5.2.1)\n",
            "Requirement already satisfied: chardet<4,>=3.0.2 in /usr/local/lib/python3.7/dist-packages (from requests<3.0.0,>=2.13.0->spacy==3.3.0.dev0) (3.0.4)\n",
            "Requirement already satisfied: idna<3,>=2.5 in /usr/local/lib/python3.7/dist-packages (from requests<3.0.0,>=2.13.0->spacy==3.3.0.dev0) (2.10)\n",
            "Requirement already satisfied: urllib3!=1.25.0,!=1.25.1,<1.26,>=1.21.1 in /usr/local/lib/python3.7/dist-packages (from requests<3.0.0,>=2.13.0->spacy==3.3.0.dev0) (1.24.3)\n",
            "Requirement already satisfied: certifi>=2017.4.17 in /usr/local/lib/python3.7/dist-packages (from requests<3.0.0,>=2.13.0->spacy==3.3.0.dev0) (2022.6.15)\n",
            "Requirement already satisfied: click<9.0.0,>=7.1.1 in /usr/local/lib/python3.7/dist-packages (from typer<0.5.0,>=0.3.0->spacy==3.3.0.dev0) (7.1.2)\n",
            "Requirement already satisfied: MarkupSafe>=0.23 in /usr/local/lib/python3.7/dist-packages (from jinja2->spacy==3.3.0.dev0) (2.0.1)\n",
            "Installing collected packages: typing-extensions, spacy\n",
            "  Attempting uninstall: typing-extensions\n",
            "    Found existing installation: typing-extensions 4.1.1\n",
            "    Uninstalling typing-extensions-4.1.1:\n",
            "      Successfully uninstalled typing-extensions-4.1.1\n",
            "  Attempting uninstall: spacy\n",
            "    Found existing installation: spacy 3.3.1\n",
            "    Uninstalling spacy-3.3.1:\n",
            "      Successfully uninstalled spacy-3.3.1\n",
            "Successfully installed spacy-3.3.0.dev0 typing-extensions-3.10.0.2\n"
          ]
        },
        {
          "output_type": "display_data",
          "data": {
            "application/vnd.colab-display-data+json": {
              "pip_warning": {
                "packages": [
                  "spacy",
                  "typing_extensions"
                ]
              }
            }
          },
          "metadata": {}
        },
        {
          "output_type": "stream",
          "name": "stdout",
          "text": [
            "Looking in indexes: https://pypi.org/simple, https://us-python.pkg.dev/colab-wheels/public/simple/\n",
            "Collecting en-core-web-trf==3.3.0\n",
            "  Downloading https://github.com/explosion/spacy-models/releases/download/en_core_web_trf-3.3.0/en_core_web_trf-3.3.0-py3-none-any.whl (460.3 MB)\n",
            "\u001b[K     |████████████████████████████████| 460.3 MB 25 kB/s \n",
            "\u001b[?25hCollecting spacy-transformers<1.2.0,>=1.1.2\n",
            "  Downloading spacy_transformers-1.1.7-py2.py3-none-any.whl (53 kB)\n",
            "\u001b[K     |████████████████████████████████| 53 kB 1.8 MB/s \n",
            "\u001b[?25hRequirement already satisfied: spacy<3.4.0,>=3.3.0.dev0 in /usr/local/lib/python3.7/dist-packages (from en-core-web-trf==3.3.0) (3.3.0.dev0)\n",
            "Requirement already satisfied: pathy>=0.3.5 in /usr/local/lib/python3.7/dist-packages (from spacy<3.4.0,>=3.3.0.dev0->en-core-web-trf==3.3.0) (0.6.2)\n",
            "Requirement already satisfied: blis<0.8.0,>=0.4.0 in /usr/local/lib/python3.7/dist-packages (from spacy<3.4.0,>=3.3.0.dev0->en-core-web-trf==3.3.0) (0.7.8)\n",
            "Requirement already satisfied: thinc<8.1.0,>=8.0.14 in /usr/local/lib/python3.7/dist-packages (from spacy<3.4.0,>=3.3.0.dev0->en-core-web-trf==3.3.0) (8.0.17)\n",
            "Requirement already satisfied: pydantic!=1.8,!=1.8.1,<1.9.0,>=1.7.4 in /usr/local/lib/python3.7/dist-packages (from spacy<3.4.0,>=3.3.0.dev0->en-core-web-trf==3.3.0) (1.8.2)\n",
            "Requirement already satisfied: catalogue<2.1.0,>=2.0.6 in /usr/local/lib/python3.7/dist-packages (from spacy<3.4.0,>=3.3.0.dev0->en-core-web-trf==3.3.0) (2.0.7)\n",
            "Requirement already satisfied: typing-extensions<4.0.0.0,>=3.7.4 in /usr/local/lib/python3.7/dist-packages (from spacy<3.4.0,>=3.3.0.dev0->en-core-web-trf==3.3.0) (3.10.0.2)\n",
            "Requirement already satisfied: langcodes<4.0.0,>=3.2.0 in /usr/local/lib/python3.7/dist-packages (from spacy<3.4.0,>=3.3.0.dev0->en-core-web-trf==3.3.0) (3.3.0)\n",
            "Requirement already satisfied: wasabi<1.1.0,>=0.8.1 in /usr/local/lib/python3.7/dist-packages (from spacy<3.4.0,>=3.3.0.dev0->en-core-web-trf==3.3.0) (0.9.1)\n",
            "Requirement already satisfied: preshed<3.1.0,>=3.0.2 in /usr/local/lib/python3.7/dist-packages (from spacy<3.4.0,>=3.3.0.dev0->en-core-web-trf==3.3.0) (3.0.6)\n",
            "Requirement already satisfied: murmurhash<1.1.0,>=0.28.0 in /usr/local/lib/python3.7/dist-packages (from spacy<3.4.0,>=3.3.0.dev0->en-core-web-trf==3.3.0) (1.0.7)\n",
            "Requirement already satisfied: jinja2 in /usr/local/lib/python3.7/dist-packages (from spacy<3.4.0,>=3.3.0.dev0->en-core-web-trf==3.3.0) (2.11.3)\n",
            "Requirement already satisfied: cymem<2.1.0,>=2.0.2 in /usr/local/lib/python3.7/dist-packages (from spacy<3.4.0,>=3.3.0.dev0->en-core-web-trf==3.3.0) (2.0.6)\n",
            "Requirement already satisfied: numpy>=1.15.0 in /usr/local/lib/python3.7/dist-packages (from spacy<3.4.0,>=3.3.0.dev0->en-core-web-trf==3.3.0) (1.21.6)\n",
            "Requirement already satisfied: tqdm<5.0.0,>=4.38.0 in /usr/local/lib/python3.7/dist-packages (from spacy<3.4.0,>=3.3.0.dev0->en-core-web-trf==3.3.0) (4.64.0)\n",
            "Requirement already satisfied: typer<0.5.0,>=0.3.0 in /usr/local/lib/python3.7/dist-packages (from spacy<3.4.0,>=3.3.0.dev0->en-core-web-trf==3.3.0) (0.4.2)\n",
            "Requirement already satisfied: spacy-loggers<2.0.0,>=1.0.0 in /usr/local/lib/python3.7/dist-packages (from spacy<3.4.0,>=3.3.0.dev0->en-core-web-trf==3.3.0) (1.0.2)\n",
            "Requirement already satisfied: requests<3.0.0,>=2.13.0 in /usr/local/lib/python3.7/dist-packages (from spacy<3.4.0,>=3.3.0.dev0->en-core-web-trf==3.3.0) (2.23.0)\n",
            "Requirement already satisfied: packaging>=20.0 in /usr/local/lib/python3.7/dist-packages (from spacy<3.4.0,>=3.3.0.dev0->en-core-web-trf==3.3.0) (21.3)\n",
            "Requirement already satisfied: srsly<3.0.0,>=2.4.1 in /usr/local/lib/python3.7/dist-packages (from spacy<3.4.0,>=3.3.0.dev0->en-core-web-trf==3.3.0) (2.4.3)\n",
            "Requirement already satisfied: spacy-legacy<3.1.0,>=3.0.9 in /usr/local/lib/python3.7/dist-packages (from spacy<3.4.0,>=3.3.0.dev0->en-core-web-trf==3.3.0) (3.0.9)\n",
            "Requirement already satisfied: setuptools in /usr/local/lib/python3.7/dist-packages (from spacy<3.4.0,>=3.3.0.dev0->en-core-web-trf==3.3.0) (57.4.0)\n",
            "Requirement already satisfied: zipp>=0.5 in /usr/local/lib/python3.7/dist-packages (from catalogue<2.1.0,>=2.0.6->spacy<3.4.0,>=3.3.0.dev0->en-core-web-trf==3.3.0) (3.8.0)\n",
            "Requirement already satisfied: pyparsing!=3.0.5,>=2.0.2 in /usr/local/lib/python3.7/dist-packages (from packaging>=20.0->spacy<3.4.0,>=3.3.0.dev0->en-core-web-trf==3.3.0) (3.0.9)\n",
            "Requirement already satisfied: smart-open<6.0.0,>=5.2.1 in /usr/local/lib/python3.7/dist-packages (from pathy>=0.3.5->spacy<3.4.0,>=3.3.0.dev0->en-core-web-trf==3.3.0) (5.2.1)\n",
            "Requirement already satisfied: urllib3!=1.25.0,!=1.25.1,<1.26,>=1.21.1 in /usr/local/lib/python3.7/dist-packages (from requests<3.0.0,>=2.13.0->spacy<3.4.0,>=3.3.0.dev0->en-core-web-trf==3.3.0) (1.24.3)\n",
            "Requirement already satisfied: idna<3,>=2.5 in /usr/local/lib/python3.7/dist-packages (from requests<3.0.0,>=2.13.0->spacy<3.4.0,>=3.3.0.dev0->en-core-web-trf==3.3.0) (2.10)\n",
            "Requirement already satisfied: chardet<4,>=3.0.2 in /usr/local/lib/python3.7/dist-packages (from requests<3.0.0,>=2.13.0->spacy<3.4.0,>=3.3.0.dev0->en-core-web-trf==3.3.0) (3.0.4)\n",
            "Requirement already satisfied: certifi>=2017.4.17 in /usr/local/lib/python3.7/dist-packages (from requests<3.0.0,>=2.13.0->spacy<3.4.0,>=3.3.0.dev0->en-core-web-trf==3.3.0) (2022.6.15)\n",
            "Collecting spacy-alignments<1.0.0,>=0.7.2\n",
            "  Downloading spacy_alignments-0.8.5-cp37-cp37m-manylinux_2_17_x86_64.manylinux2014_x86_64.whl (1.1 MB)\n",
            "\u001b[K     |████████████████████████████████| 1.1 MB 12.2 MB/s \n",
            "\u001b[?25hRequirement already satisfied: torch>=1.6.0 in /usr/local/lib/python3.7/dist-packages (from spacy-transformers<1.2.0,>=1.1.2->en-core-web-trf==3.3.0) (1.12.0+cu113)\n",
            "Collecting transformers<4.21.0,>=3.4.0\n",
            "  Downloading transformers-4.20.1-py3-none-any.whl (4.4 MB)\n",
            "\u001b[K     |████████████████████████████████| 4.4 MB 46.2 MB/s \n",
            "\u001b[?25hRequirement already satisfied: importlib-metadata in /usr/local/lib/python3.7/dist-packages (from transformers<4.21.0,>=3.4.0->spacy-transformers<1.2.0,>=1.1.2->en-core-web-trf==3.3.0) (4.12.0)\n",
            "Requirement already satisfied: filelock in /usr/local/lib/python3.7/dist-packages (from transformers<4.21.0,>=3.4.0->spacy-transformers<1.2.0,>=1.1.2->en-core-web-trf==3.3.0) (3.7.1)\n",
            "Collecting huggingface-hub<1.0,>=0.1.0\n",
            "  Downloading huggingface_hub-0.8.1-py3-none-any.whl (101 kB)\n",
            "\u001b[K     |████████████████████████████████| 101 kB 10.0 MB/s \n",
            "\u001b[?25hRequirement already satisfied: regex!=2019.12.17 in /usr/local/lib/python3.7/dist-packages (from transformers<4.21.0,>=3.4.0->spacy-transformers<1.2.0,>=1.1.2->en-core-web-trf==3.3.0) (2022.6.2)\n",
            "Collecting pyyaml>=5.1\n",
            "  Downloading PyYAML-6.0-cp37-cp37m-manylinux_2_5_x86_64.manylinux1_x86_64.manylinux_2_12_x86_64.manylinux2010_x86_64.whl (596 kB)\n",
            "\u001b[K     |████████████████████████████████| 596 kB 51.5 MB/s \n",
            "\u001b[?25hCollecting tokenizers!=0.11.3,<0.13,>=0.11.1\n",
            "  Downloading tokenizers-0.12.1-cp37-cp37m-manylinux_2_12_x86_64.manylinux2010_x86_64.whl (6.6 MB)\n",
            "\u001b[K     |████████████████████████████████| 6.6 MB 33.6 MB/s \n",
            "\u001b[?25hRequirement already satisfied: click<9.0.0,>=7.1.1 in /usr/local/lib/python3.7/dist-packages (from typer<0.5.0,>=0.3.0->spacy<3.4.0,>=3.3.0.dev0->en-core-web-trf==3.3.0) (7.1.2)\n",
            "Requirement already satisfied: MarkupSafe>=0.23 in /usr/local/lib/python3.7/dist-packages (from jinja2->spacy<3.4.0,>=3.3.0.dev0->en-core-web-trf==3.3.0) (2.0.1)\n",
            "Installing collected packages: pyyaml, tokenizers, huggingface-hub, transformers, spacy-alignments, spacy-transformers, en-core-web-trf\n",
            "  Attempting uninstall: pyyaml\n",
            "    Found existing installation: PyYAML 3.13\n",
            "    Uninstalling PyYAML-3.13:\n",
            "      Successfully uninstalled PyYAML-3.13\n",
            "Successfully installed en-core-web-trf-3.3.0 huggingface-hub-0.8.1 pyyaml-6.0 spacy-alignments-0.8.5 spacy-transformers-1.1.7 tokenizers-0.12.1 transformers-4.20.1\n",
            "\u001b[38;5;2m✔ Download and installation successful\u001b[0m\n",
            "You can now load the package via spacy.load('en_core_web_trf')\n"
          ]
        }
      ]
    },
    {
      "cell_type": "code",
      "source": [
        "#install cuda-9.2 \n",
        "!wget https://developer.nvidia.com/compute/cuda/9.2/Prod/local_installers/cuda-repo-ubuntu1604-9-2-local_9.2.88-1_amd64 -O cuda-repo-ubuntu1604-9-2-local_9.2.88-1_amd64.deb\n",
        "!dpkg -i cuda-repo-ubuntu1604-9-2-local_9.2.88-1_amd64.deb\n",
        "!apt-key add /var/cuda-repo-9-2-local/7fa2af80.pub\n",
        "!apt-get update\n",
        "!apt-get install cuda-9.2"
      ],
      "metadata": {
        "id": "sIZ01W6MCdbJ"
      },
      "execution_count": null,
      "outputs": []
    },
    {
      "cell_type": "code",
      "source": [
        "# install pytorch transfomer library\n",
        "pip install torch==1.7.1+cu92 torchvision==0.8.2+cu92 torchaudio==0.7.2 -f https://download.pytorch.org/whl/torch_stable.html"
      ],
      "metadata": {
        "id": "eddOZojDCh-a"
      },
      "execution_count": null,
      "outputs": []
    },
    {
      "cell_type": "code",
      "source": [
        "#Install spacy transformers for cuda 9.2 and change the CUDA_PATH and LD_LIBRARY_PATH\n",
        "!export CUDA_PATH=\"/usr/local/cuda-9.2\"\n",
        "!pip install -U spacy[cuda92,transformers]"
      ],
      "metadata": {
        "id": "fOuzFKxjFap7"
      },
      "execution_count": null,
      "outputs": []
    },
    {
      "cell_type": "code",
      "source": [
        "#!pip install cupy-cuda100 (the only version that worked with the version of the transformer)\n",
        "!pip install cupy-cuda100"
      ],
      "metadata": {
        "id": "p3P2m5MUkZdS"
      },
      "execution_count": null,
      "outputs": []
    },
    {
      "cell_type": "code",
      "source": [
        "!export LD_LIBRARY_PATH=$CUDA_PATH/lib64:$LD_LIBRARY_PATH"
      ],
      "metadata": {
        "id": "2Tu3CnAWEosN"
      },
      "execution_count": null,
      "outputs": []
    },
    {
      "cell_type": "code",
      "source": [
        "#import SpaCy 3 config file config.cfg which contains the model training components to train the model\n",
        "#We need tp auto-fill the config file with the rest of the parameters for the BERT model\n",
        "!python -m spacy init fill-config \"/content/drive/MyDrive/Big Data/base_config.cfg\" \"/content/drive/MyDrive/Big Data/config_spacy.cfg\""
      ],
      "metadata": {
        "id": "NZNm8Fb4FnK6"
      },
      "execution_count": null,
      "outputs": []
    },
    {
      "cell_type": "code",
      "source": [
        "#depug the file and adjust according to the error\n",
        "!python -m spacy debug data \"/content/drive/MyDrive/Big Data/config_spacy.cfg\""
      ],
      "metadata": {
        "id": "qAA1a7KxLGPT"
      },
      "execution_count": null,
      "outputs": []
    },
    {
      "cell_type": "code",
      "source": [
        "#if it does not run, downgrading spacy might help (I do not remeber what exact spacy version finally worked out)\n",
        "#pip install -U spacy==3.1"
      ],
      "metadata": {
        "id": "vDRb1-ji7nPr"
      },
      "execution_count": null,
      "outputs": []
    },
    {
      "cell_type": "code",
      "source": [
        "#train and test the model, -g 0 activates GPU, define the output folder\n",
        "!python -m spacy train -g 0 \"/content/drive/MyDrive/Big Data/config_spacy.cfg\"  --output ./output --paths.train /content/train.spacy --paths.dev /content/test.spacy"
      ],
      "metadata": {
        "id": "9CRLbCt0LShQ"
      },
      "execution_count": null,
      "outputs": []
    },
    {
      "cell_type": "code",
      "source": [
        "# zip the best model and download the file\n",
        "#!zip -r /content/output/model-best.zip /content/output/model-best"
      ],
      "metadata": {
        "id": "c0oWtFkzgK0q"
      },
      "execution_count": null,
      "outputs": []
    },
    {
      "cell_type": "markdown",
      "source": [
        "### Test fine-tuned spacy model"
      ],
      "metadata": {
        "id": "_w-gvPa8fkBR"
      }
    },
    {
      "cell_type": "code",
      "source": [
        "#test model on an example\n",
        "import spacy\n",
        "!pip install spacy-transformers\n",
        "#import spacy_transformers\n",
        "nlp = spacy.load(\"en_core_web_sm\")\n",
        "#load pretrained model\n",
        "nlp = spacy.load(data_path+\"Big Data/content/output/model-best\")\n",
        "#load df with full text descriptions"
      ],
      "metadata": {
        "id": "aqj4X2Rh4ig9"
      },
      "execution_count": 16,
      "outputs": []
    },
    {
      "cell_type": "code",
      "source": [
        "#load df (containing the data from adzuna API and the screaped full text description of the job postings)\n",
        "import pandas as pd\n",
        "df = pd.read_csv(data_path+'Big Data/data copy.csv')"
      ],
      "metadata": {
        "id": "UjgErLuNfKnJ"
      },
      "execution_count": 29,
      "outputs": []
    },
    {
      "cell_type": "code",
      "source": [
        "#REMOVE HTML TAGS FROM FULL_DESCRIPTION\n",
        "import re\n",
        "def remove_tags(string):\n",
        "    result = re.sub('<.*?>','',string)\n",
        "    return result\n",
        "df['full_description']=df['full_description'].apply(lambda cw : remove_tags(cw))"
      ],
      "metadata": {
        "id": "DkPbV2Q-fSyV"
      },
      "execution_count": 31,
      "outputs": []
    },
    {
      "cell_type": "code",
      "source": [
        "df = df.head(5)\n",
        "df"
      ],
      "metadata": {
        "colab": {
          "base_uri": "https://localhost:8080/",
          "height": 478
        },
        "id": "O0E5r9NhfdZT",
        "outputId": "ac302a3b-6d09-4d84-a6f0-c9c46912a64f"
      },
      "execution_count": 35,
      "outputs": [
        {
          "output_type": "execute_result",
          "data": {
            "text/plain": [
              "   Unnamed: 0                      Unnamed: 0.1 title  \\\n",
              "0           1  Data Engineer - Data Integration   NaN   \n",
              "1           2                    Data Scientist   NaN   \n",
              "2           3                      Data Analyst   NaN   \n",
              "3           4                     Data Engineer   NaN   \n",
              "4           5                    Data Scientist   NaN   \n",
              "\n",
              "                                       contract_type description  salary_max  \\\n",
              "0  Salary 80,000 - 110,000 USD per year Requireme...    Doximity    110000.0   \n",
              "1  Salary 100,000 - 120,000 USD per year Requirem...    Cohesion    120000.0   \n",
              "2  Salary 70,000 - 100,000 USD per year Requireme...    Doximity    100000.0   \n",
              "3  Salary 110,000 - 140,000 USD per year Requirem...   Snap Inc.    140000.0   \n",
              "4  Salary 100,000 - 130,000 USD per year Requirem...    U.S. Gov    130000.0   \n",
              "\n",
              "   salary_min          location.display_name  salary_is_predicted  \\\n",
              "0       80000    Potrero Hill, San Francisco                    0   \n",
              "1      100000             West Loop, Chicago                    0   \n",
              "2       70000    Potrero Hill, San Francisco                    0   \n",
              "3      110000           Loco, Lincoln County                    0   \n",
              "4      100000  Washington, Montgomery County                    0   \n",
              "\n",
              "                                        redirect_url               created  \\\n",
              "0  https://www.adzuna.com/land/ad/2611763187?se=q...  2021-11-04T17:31:30Z   \n",
              "1  https://www.adzuna.com/land/ad/2630782108?se=q...  2021-11-10T17:42:11Z   \n",
              "2  https://www.adzuna.com/land/ad/2611763219?se=q...  2021-11-04T17:31:30Z   \n",
              "3  https://www.adzuna.com/land/ad/2770687741?se=q...  2021-12-27T14:59:52Z   \n",
              "4  https://www.adzuna.com/land/ad/3174834461?se=q...  2022-05-27T17:56:16Z   \n",
              "\n",
              "                                    full_description  \n",
              "0  Salary 80,000 - 110,000 USD per year Requireme...  \n",
              "1  Salary 100,000 - 120,000 USD per year Requirem...  \n",
              "2  Salary 70,000 - 100,000 USD per year Requireme...  \n",
              "3  Salary 110,000 - 140,000 USD per year Requirem...  \n",
              "4  Salary 100,000 - 130,000 USD per year Requirem...  "
            ],
            "text/html": [
              "\n",
              "  <div id=\"df-144874cf-54f6-4053-a14c-081664d5851a\">\n",
              "    <div class=\"colab-df-container\">\n",
              "      <div>\n",
              "<style scoped>\n",
              "    .dataframe tbody tr th:only-of-type {\n",
              "        vertical-align: middle;\n",
              "    }\n",
              "\n",
              "    .dataframe tbody tr th {\n",
              "        vertical-align: top;\n",
              "    }\n",
              "\n",
              "    .dataframe thead th {\n",
              "        text-align: right;\n",
              "    }\n",
              "</style>\n",
              "<table border=\"1\" class=\"dataframe\">\n",
              "  <thead>\n",
              "    <tr style=\"text-align: right;\">\n",
              "      <th></th>\n",
              "      <th>Unnamed: 0</th>\n",
              "      <th>Unnamed: 0.1</th>\n",
              "      <th>title</th>\n",
              "      <th>contract_type</th>\n",
              "      <th>description</th>\n",
              "      <th>salary_max</th>\n",
              "      <th>salary_min</th>\n",
              "      <th>location.display_name</th>\n",
              "      <th>salary_is_predicted</th>\n",
              "      <th>redirect_url</th>\n",
              "      <th>created</th>\n",
              "      <th>full_description</th>\n",
              "    </tr>\n",
              "  </thead>\n",
              "  <tbody>\n",
              "    <tr>\n",
              "      <th>0</th>\n",
              "      <td>1</td>\n",
              "      <td>Data Engineer - Data Integration</td>\n",
              "      <td>NaN</td>\n",
              "      <td>Salary 80,000 - 110,000 USD per year Requireme...</td>\n",
              "      <td>Doximity</td>\n",
              "      <td>110000.0</td>\n",
              "      <td>80000</td>\n",
              "      <td>Potrero Hill, San Francisco</td>\n",
              "      <td>0</td>\n",
              "      <td>https://www.adzuna.com/land/ad/2611763187?se=q...</td>\n",
              "      <td>2021-11-04T17:31:30Z</td>\n",
              "      <td>Salary 80,000 - 110,000 USD per year Requireme...</td>\n",
              "    </tr>\n",
              "    <tr>\n",
              "      <th>1</th>\n",
              "      <td>2</td>\n",
              "      <td>Data Scientist</td>\n",
              "      <td>NaN</td>\n",
              "      <td>Salary 100,000 - 120,000 USD per year Requirem...</td>\n",
              "      <td>Cohesion</td>\n",
              "      <td>120000.0</td>\n",
              "      <td>100000</td>\n",
              "      <td>West Loop, Chicago</td>\n",
              "      <td>0</td>\n",
              "      <td>https://www.adzuna.com/land/ad/2630782108?se=q...</td>\n",
              "      <td>2021-11-10T17:42:11Z</td>\n",
              "      <td>Salary 100,000 - 120,000 USD per year Requirem...</td>\n",
              "    </tr>\n",
              "    <tr>\n",
              "      <th>2</th>\n",
              "      <td>3</td>\n",
              "      <td>Data Analyst</td>\n",
              "      <td>NaN</td>\n",
              "      <td>Salary 70,000 - 100,000 USD per year Requireme...</td>\n",
              "      <td>Doximity</td>\n",
              "      <td>100000.0</td>\n",
              "      <td>70000</td>\n",
              "      <td>Potrero Hill, San Francisco</td>\n",
              "      <td>0</td>\n",
              "      <td>https://www.adzuna.com/land/ad/2611763219?se=q...</td>\n",
              "      <td>2021-11-04T17:31:30Z</td>\n",
              "      <td>Salary 70,000 - 100,000 USD per year Requireme...</td>\n",
              "    </tr>\n",
              "    <tr>\n",
              "      <th>3</th>\n",
              "      <td>4</td>\n",
              "      <td>Data Engineer</td>\n",
              "      <td>NaN</td>\n",
              "      <td>Salary 110,000 - 140,000 USD per year Requirem...</td>\n",
              "      <td>Snap Inc.</td>\n",
              "      <td>140000.0</td>\n",
              "      <td>110000</td>\n",
              "      <td>Loco, Lincoln County</td>\n",
              "      <td>0</td>\n",
              "      <td>https://www.adzuna.com/land/ad/2770687741?se=q...</td>\n",
              "      <td>2021-12-27T14:59:52Z</td>\n",
              "      <td>Salary 110,000 - 140,000 USD per year Requirem...</td>\n",
              "    </tr>\n",
              "    <tr>\n",
              "      <th>4</th>\n",
              "      <td>5</td>\n",
              "      <td>Data Scientist</td>\n",
              "      <td>NaN</td>\n",
              "      <td>Salary 100,000 - 130,000 USD per year Requirem...</td>\n",
              "      <td>U.S. Gov</td>\n",
              "      <td>130000.0</td>\n",
              "      <td>100000</td>\n",
              "      <td>Washington, Montgomery County</td>\n",
              "      <td>0</td>\n",
              "      <td>https://www.adzuna.com/land/ad/3174834461?se=q...</td>\n",
              "      <td>2022-05-27T17:56:16Z</td>\n",
              "      <td>Salary 100,000 - 130,000 USD per year Requirem...</td>\n",
              "    </tr>\n",
              "  </tbody>\n",
              "</table>\n",
              "</div>\n",
              "      <button class=\"colab-df-convert\" onclick=\"convertToInteractive('df-144874cf-54f6-4053-a14c-081664d5851a')\"\n",
              "              title=\"Convert this dataframe to an interactive table.\"\n",
              "              style=\"display:none;\">\n",
              "        \n",
              "  <svg xmlns=\"http://www.w3.org/2000/svg\" height=\"24px\"viewBox=\"0 0 24 24\"\n",
              "       width=\"24px\">\n",
              "    <path d=\"M0 0h24v24H0V0z\" fill=\"none\"/>\n",
              "    <path d=\"M18.56 5.44l.94 2.06.94-2.06 2.06-.94-2.06-.94-.94-2.06-.94 2.06-2.06.94zm-11 1L8.5 8.5l.94-2.06 2.06-.94-2.06-.94L8.5 2.5l-.94 2.06-2.06.94zm10 10l.94 2.06.94-2.06 2.06-.94-2.06-.94-.94-2.06-.94 2.06-2.06.94z\"/><path d=\"M17.41 7.96l-1.37-1.37c-.4-.4-.92-.59-1.43-.59-.52 0-1.04.2-1.43.59L10.3 9.45l-7.72 7.72c-.78.78-.78 2.05 0 2.83L4 21.41c.39.39.9.59 1.41.59.51 0 1.02-.2 1.41-.59l7.78-7.78 2.81-2.81c.8-.78.8-2.07 0-2.86zM5.41 20L4 18.59l7.72-7.72 1.47 1.35L5.41 20z\"/>\n",
              "  </svg>\n",
              "      </button>\n",
              "      \n",
              "  <style>\n",
              "    .colab-df-container {\n",
              "      display:flex;\n",
              "      flex-wrap:wrap;\n",
              "      gap: 12px;\n",
              "    }\n",
              "\n",
              "    .colab-df-convert {\n",
              "      background-color: #E8F0FE;\n",
              "      border: none;\n",
              "      border-radius: 50%;\n",
              "      cursor: pointer;\n",
              "      display: none;\n",
              "      fill: #1967D2;\n",
              "      height: 32px;\n",
              "      padding: 0 0 0 0;\n",
              "      width: 32px;\n",
              "    }\n",
              "\n",
              "    .colab-df-convert:hover {\n",
              "      background-color: #E2EBFA;\n",
              "      box-shadow: 0px 1px 2px rgba(60, 64, 67, 0.3), 0px 1px 3px 1px rgba(60, 64, 67, 0.15);\n",
              "      fill: #174EA6;\n",
              "    }\n",
              "\n",
              "    [theme=dark] .colab-df-convert {\n",
              "      background-color: #3B4455;\n",
              "      fill: #D2E3FC;\n",
              "    }\n",
              "\n",
              "    [theme=dark] .colab-df-convert:hover {\n",
              "      background-color: #434B5C;\n",
              "      box-shadow: 0px 1px 3px 1px rgba(0, 0, 0, 0.15);\n",
              "      filter: drop-shadow(0px 1px 2px rgba(0, 0, 0, 0.3));\n",
              "      fill: #FFFFFF;\n",
              "    }\n",
              "  </style>\n",
              "\n",
              "      <script>\n",
              "        const buttonEl =\n",
              "          document.querySelector('#df-144874cf-54f6-4053-a14c-081664d5851a button.colab-df-convert');\n",
              "        buttonEl.style.display =\n",
              "          google.colab.kernel.accessAllowed ? 'block' : 'none';\n",
              "\n",
              "        async function convertToInteractive(key) {\n",
              "          const element = document.querySelector('#df-144874cf-54f6-4053-a14c-081664d5851a');\n",
              "          const dataTable =\n",
              "            await google.colab.kernel.invokeFunction('convertToInteractive',\n",
              "                                                     [key], {});\n",
              "          if (!dataTable) return;\n",
              "\n",
              "          const docLinkHtml = 'Like what you see? Visit the ' +\n",
              "            '<a target=\"_blank\" href=https://colab.research.google.com/notebooks/data_table.ipynb>data table notebook</a>'\n",
              "            + ' to learn more about interactive tables.';\n",
              "          element.innerHTML = '';\n",
              "          dataTable['output_type'] = 'display_data';\n",
              "          await google.colab.output.renderOutput(dataTable, element);\n",
              "          const docLink = document.createElement('div');\n",
              "          docLink.innerHTML = docLinkHtml;\n",
              "          element.appendChild(docLink);\n",
              "        }\n",
              "      </script>\n",
              "    </div>\n",
              "  </div>\n",
              "  "
            ]
          },
          "metadata": {},
          "execution_count": 35
        }
      ]
    },
    {
      "cell_type": "code",
      "source": [
        "#apply spacy pipeline to the first 5 rows of the column full_description\n",
        "for doc in nlp.pipe(df.full_description, disable=[\"tagger\", \"parser\"]):\n",
        "    print([(ent.text, ent.label_) for ent in doc.ents])"
      ],
      "metadata": {
        "colab": {
          "base_uri": "https://localhost:8080/"
        },
        "id": "LD2k8wNMffjH",
        "outputId": "3a5b9098-bbe7-4f7f-b40e-6c73ee20ed22"
      },
      "execution_count": 36,
      "outputs": [
        {
          "output_type": "stream",
          "name": "stdout",
          "text": [
            "[('data engineering', 'SKILLS'), ('operations', 'SKILLS'), ('data pipelines', 'SKILLS'), ('Python', 'SKILLS'), ('user-facing', 'SKILLS'), ('data warehousing', 'SKILLS'), ('Snowflake', 'SKILLS'), ('designing data modelsYou', 'SKILLS'), ('data structures', 'SKILLS'), ('Data engineers', 'SKILLS'), ('data integration', 'SKILLS'), ('user-facing', 'SKILLS'), ('.', 'SKILLS'), ('data products', 'SKILLS'), ('.', 'SKILLS'), ('data engineers', 'SKILLS'), ('data integration', 'SKILLS'), ('Python-', 'SKILLS'), ('SQL- MySQL-', 'SKILLS'), ('Big Data-', 'SKILLS'), ('Data-', 'SKILLS'), ('healthcare industry', 'SKILLS'), ('.', 'SKILLS'), ('.', 'SKILLS'), ('—', 'SKILLS'), ('.', 'SKILLS'), ('Healthcare is a universal concern', 'SKILLS'), ('.', 'SKILLS'), ('.', 'SKILLS')]\n",
            "[('•', 'SKILLS'), ('scripting languages', 'SKILLS'), ('Python', 'SKILLS'), ('R', 'SKILLS'), ('data manipulation', 'SKILLS'), ('building data product prototypes•', 'SKILLS'), ('analytical', 'SKILLS'), ('Microsoft BI', 'SKILLS'), ('SQL', 'SKILLS'), ('Alteryx•', 'SKILLS'), ('parse internal documentation', 'SKILLS'), ('code repositories•', 'SKILLS'), ('machine learning', 'SKILLS'), ('predictive models', 'SKILLS'), ('simulations', 'SKILLS'), ('surface insights•', 'SKILLS'), ('data science', 'SKILLS'), ('Databricks•', 'SKILLS'), ('mathematical', 'SKILLS'), ('innovate', 'SKILLS'), ('statistical models•', 'SKILLS'), ('communication', 'SKILLS'), ('explaining complex topics', 'SKILLS'), ('•', 'SKILLS'), ('IoT sensors', 'SKILLS'), ('building Access control', 'SKILLS'), ('HVAC systems', 'SKILLS'), ('beacons', 'SKILLS'), ('user devices•', 'SKILLS'), ('relational', 'SKILLS'), ('timeseries', 'SKILLS'), ('NoSQL databases', 'SKILLS'), ('graph databases•', 'SKILLS'), ('decision engines', 'SKILLS'), ('data products', 'SKILLS'), ('product management', 'SKILLS'), ('software engineers', 'SKILLS'), ('data products', 'SKILLS'), ('Display data and', 'SKILLS'), ('model output', 'SKILLS'), ('complex information', 'SKILLS'), ('data insights', 'SKILLS'), ('Machine Learning-', 'SKILLS'), ('Data-', 'SKILLS'), ('Data WarehouseMore', 'SKILLS'), ('Cohesion', 'SKILLS'), ('Intelligent Buildings', 'SKILLS'), ('–', 'SKILLS'), ('real estate', 'SKILLS'), ('.', 'SKILLS'), ('IoT-enabled', 'SKILLS'), ('building systems', 'SKILLS'), ('building software', 'SKILLS'), ('business applications', 'SKILLS'), ('autonomous buildings', 'SKILLS'), ('Data Scientist', 'SKILLS'), ('.', 'SKILLS'), ('Data Engineer', 'SKILLS'), ('.', 'SKILLS'), ('smart-building', 'SKILLS'), ('Cohesion', 'SKILLS'), ('integrated building', 'SKILLS'), ('personal devices', 'SKILLS'), ('.', 'SKILLS'), ('Data Scientist', 'SKILLS'), ('optimizations', 'SKILLS'), ('commercial real estate', 'SKILLS'), ('.', 'SKILLS'), ('data visualization', 'SKILLS'), ('statistical methods', 'SKILLS'), ('machine learning', 'SKILLS'), ('–', 'SKILLS'), ('curious', 'SKILLS'), ('…', 'SKILLS'), ('data science', 'SKILLS'), ('data science', 'SKILLS')]\n",
            "[('2 years', 'EXPERIENCE'), ('data analyst', 'SKILLS'), ('data scientist', 'SKILLS'), ('statistical concepts', 'SKILLS'), ('data analysis', 'SKILLS'), ('probability theory', 'SKILLS'), ('.', 'SKILLS'), ('SQL', 'SKILLS'), ('evaluate complex statements', 'SKILLS'), ('visualization', 'SKILLS'), ('storytelling', 'SKILLS'), ('Python', 'SKILLS'), ('data analysis', 'SKILLS'), ('Pandas', 'SKILLS'), ('Numpy', 'SKILLS'), ('.', 'SKILLS'), ('object-oriented programming', 'SKILLS'), ('Python', 'SKILLS'), ('behavioral patterns', 'SKILLS'), ('medical professionals', 'SKILLS'), ('data team strategy', 'SKILLS'), ('.', 'SKILLS'), ('data team strategy', 'SKILLS'), ('.', 'SKILLS'), ('analysts', 'SKILLS'), ('data projects', 'SKILLS'), ('data ingestion', 'SKILLS'), ('analysis', 'SKILLS'), ('recommendations', 'SKILLS'), ('Big', 'SKILLS'), ('Data-', 'SKILLS'), ('pandasMore', 'SKILLS'), ('Doximity', 'SKILLS'), ('healthcare industry', 'SKILLS'), ('.', 'SKILLS'), ('informed', 'SKILLS'), ('connected', 'SKILLS'), ('.', 'SKILLS'), ('product managers', 'SKILLS')]\n",
            "[('BS/BA', 'DIPLOMA'), ('Computer Science', 'DIPLOMA_MAJOR'), ('Math', 'DIPLOMA_MAJOR'), ('Physics', 'DIPLOMA_MAJOR'), ('+ year', 'EXPERIENCE'), ('SQL', 'SKILLS'), ('+ years', 'EXPERIENCE'), ('development', 'SKILLS'), ('object-', 'SKILLS'), ('scripting', 'SKILLS'), ('Python', 'SKILLS'), ('Java', 'SKILLS'), ('Scala', 'SKILLS'), ('ETL /', 'SKILLS'), ('Data application developmentResponsibilities:-', 'SKILLS'), ('engineering', 'SKILLS'), ('finance', 'SKILLS'), ('sales', 'SKILLS'), ('marketing', 'SKILLS'), ('strategy', 'SKILLS'), ('governance', 'SKILLS'), ('data pipelines', 'SKILLS'), ('data consumption', 'SKILLS'), ('data quality', 'SKILLS'), ('data consumption', 'SKILLS'), ('Data-', 'SKILLS'), ('SQL-', 'SKILLS'), ('Java-', 'SKILLS'), ('Big DataMore', 'SKILLS'), ('Snap', 'SKILLS'), ('camera', 'SKILLS'), ('.', 'SKILLS'), ('communicate', 'SKILLS'), ('.', 'SKILLS'), ('.', 'SKILLS'), ('Data Engineer', 'SKILLS'), ('Analytics Engineering', 'SKILLS'), ('Mountain View', 'SKILLS'), ('Seattle', 'SKILLS'), ('engineering', 'SKILLS'), ('finance', 'SKILLS'), ('sales', 'SKILLS'), ('marketing', 'SKILLS'), ('strategy', 'SKILLS'), ('.', 'SKILLS'), ('.', 'SKILLS')]\n",
            "[('Mathematics', 'DIPLOMA_MAJOR'), ('statistics', 'DIPLOMA_MAJOR'), ('computer science', 'DIPLOMA_MAJOR'), ('data science', 'SKILLS'), ('.', 'SKILLS'), ('30 semester hours', 'EXPERIENCE'), ('data science', 'SKILLS'), ('Toad', 'SKILLS'), ('SAS', 'SKILLS'), ('R', 'SKILLS'), ('Python', 'SKILLS'), ('Tableau', 'SKILLS'), ('cloud analytics', 'SKILLS'), ('data extraction', 'SKILLS'), ('computer programming', 'SKILLS'), ('Analyze', 'SKILLS'), ('evaluate', 'SKILLS'), ('time series models', 'SKILLS'), ('Data-', 'SKILLS'), ('Big Data-', 'SKILLS'), ('RMore', 'SKILLS'), ('Data Scientist', 'SKILLS'), ('Veterans Benefits Administration', 'SKILLS'), ('Performance Analysis and Integrity', 'SKILLS'), ('business line activities', 'SKILLS'), ('operational performance', 'SKILLS'), ('.', 'SKILLS'), ('.', 'SKILLS')]\n"
          ]
        }
      ]
    },
    {
      "cell_type": "markdown",
      "source": [
        "We successfully extracted the entites \"SKILLS\", \"EXPERIENCE\" and \"DIPLOMA_MAJOR\""
      ],
      "metadata": {
        "id": "JJI_-yGNgmek"
      }
    },
    {
      "cell_type": "code",
      "source": [
        "#for-loop to extract skills only\n",
        "text = df.full_description\n",
        "skills = []\n",
        "for doc in nlp.pipe(text, disable=[\"tagger\"]):\n",
        "  for e in doc.ents:\n",
        "    if e.label_ == \"SKILLS\":\n",
        "      skills.append(e.text)\n",
        "    else: continue "
      ],
      "metadata": {
        "id": "OWss6kBRglND"
      },
      "execution_count": 37,
      "outputs": []
    },
    {
      "cell_type": "code",
      "source": [
        "#put skills in a df\n",
        "df_skills = pd.DataFrame(skills, columns=[\"skills\"])\n",
        "df_skills"
      ],
      "metadata": {
        "colab": {
          "base_uri": "https://localhost:8080/",
          "height": 411
        },
        "id": "-7ImErzEhKSi",
        "outputId": "b6e12eba-cb62-4b96-cf3a-2fbc8b0877a2"
      },
      "execution_count": 38,
      "outputs": [
        {
          "output_type": "execute_result",
          "data": {
            "text/plain": [
              "                                 skills\n",
              "0                      data engineering\n",
              "1                            operations\n",
              "2                        data pipelines\n",
              "3                                Python\n",
              "4                           user-facing\n",
              "..                                  ...\n",
              "202  Performance Analysis and Integrity\n",
              "203            business line activities\n",
              "204             operational performance\n",
              "205                                   .\n",
              "206                                   .\n",
              "\n",
              "[207 rows x 1 columns]"
            ],
            "text/html": [
              "\n",
              "  <div id=\"df-4f865b6c-033b-4382-a72f-f9cc47d60aff\">\n",
              "    <div class=\"colab-df-container\">\n",
              "      <div>\n",
              "<style scoped>\n",
              "    .dataframe tbody tr th:only-of-type {\n",
              "        vertical-align: middle;\n",
              "    }\n",
              "\n",
              "    .dataframe tbody tr th {\n",
              "        vertical-align: top;\n",
              "    }\n",
              "\n",
              "    .dataframe thead th {\n",
              "        text-align: right;\n",
              "    }\n",
              "</style>\n",
              "<table border=\"1\" class=\"dataframe\">\n",
              "  <thead>\n",
              "    <tr style=\"text-align: right;\">\n",
              "      <th></th>\n",
              "      <th>skills</th>\n",
              "    </tr>\n",
              "  </thead>\n",
              "  <tbody>\n",
              "    <tr>\n",
              "      <th>0</th>\n",
              "      <td>data engineering</td>\n",
              "    </tr>\n",
              "    <tr>\n",
              "      <th>1</th>\n",
              "      <td>operations</td>\n",
              "    </tr>\n",
              "    <tr>\n",
              "      <th>2</th>\n",
              "      <td>data pipelines</td>\n",
              "    </tr>\n",
              "    <tr>\n",
              "      <th>3</th>\n",
              "      <td>Python</td>\n",
              "    </tr>\n",
              "    <tr>\n",
              "      <th>4</th>\n",
              "      <td>user-facing</td>\n",
              "    </tr>\n",
              "    <tr>\n",
              "      <th>...</th>\n",
              "      <td>...</td>\n",
              "    </tr>\n",
              "    <tr>\n",
              "      <th>202</th>\n",
              "      <td>Performance Analysis and Integrity</td>\n",
              "    </tr>\n",
              "    <tr>\n",
              "      <th>203</th>\n",
              "      <td>business line activities</td>\n",
              "    </tr>\n",
              "    <tr>\n",
              "      <th>204</th>\n",
              "      <td>operational performance</td>\n",
              "    </tr>\n",
              "    <tr>\n",
              "      <th>205</th>\n",
              "      <td>.</td>\n",
              "    </tr>\n",
              "    <tr>\n",
              "      <th>206</th>\n",
              "      <td>.</td>\n",
              "    </tr>\n",
              "  </tbody>\n",
              "</table>\n",
              "<p>207 rows × 1 columns</p>\n",
              "</div>\n",
              "      <button class=\"colab-df-convert\" onclick=\"convertToInteractive('df-4f865b6c-033b-4382-a72f-f9cc47d60aff')\"\n",
              "              title=\"Convert this dataframe to an interactive table.\"\n",
              "              style=\"display:none;\">\n",
              "        \n",
              "  <svg xmlns=\"http://www.w3.org/2000/svg\" height=\"24px\"viewBox=\"0 0 24 24\"\n",
              "       width=\"24px\">\n",
              "    <path d=\"M0 0h24v24H0V0z\" fill=\"none\"/>\n",
              "    <path d=\"M18.56 5.44l.94 2.06.94-2.06 2.06-.94-2.06-.94-.94-2.06-.94 2.06-2.06.94zm-11 1L8.5 8.5l.94-2.06 2.06-.94-2.06-.94L8.5 2.5l-.94 2.06-2.06.94zm10 10l.94 2.06.94-2.06 2.06-.94-2.06-.94-.94-2.06-.94 2.06-2.06.94z\"/><path d=\"M17.41 7.96l-1.37-1.37c-.4-.4-.92-.59-1.43-.59-.52 0-1.04.2-1.43.59L10.3 9.45l-7.72 7.72c-.78.78-.78 2.05 0 2.83L4 21.41c.39.39.9.59 1.41.59.51 0 1.02-.2 1.41-.59l7.78-7.78 2.81-2.81c.8-.78.8-2.07 0-2.86zM5.41 20L4 18.59l7.72-7.72 1.47 1.35L5.41 20z\"/>\n",
              "  </svg>\n",
              "      </button>\n",
              "      \n",
              "  <style>\n",
              "    .colab-df-container {\n",
              "      display:flex;\n",
              "      flex-wrap:wrap;\n",
              "      gap: 12px;\n",
              "    }\n",
              "\n",
              "    .colab-df-convert {\n",
              "      background-color: #E8F0FE;\n",
              "      border: none;\n",
              "      border-radius: 50%;\n",
              "      cursor: pointer;\n",
              "      display: none;\n",
              "      fill: #1967D2;\n",
              "      height: 32px;\n",
              "      padding: 0 0 0 0;\n",
              "      width: 32px;\n",
              "    }\n",
              "\n",
              "    .colab-df-convert:hover {\n",
              "      background-color: #E2EBFA;\n",
              "      box-shadow: 0px 1px 2px rgba(60, 64, 67, 0.3), 0px 1px 3px 1px rgba(60, 64, 67, 0.15);\n",
              "      fill: #174EA6;\n",
              "    }\n",
              "\n",
              "    [theme=dark] .colab-df-convert {\n",
              "      background-color: #3B4455;\n",
              "      fill: #D2E3FC;\n",
              "    }\n",
              "\n",
              "    [theme=dark] .colab-df-convert:hover {\n",
              "      background-color: #434B5C;\n",
              "      box-shadow: 0px 1px 3px 1px rgba(0, 0, 0, 0.15);\n",
              "      filter: drop-shadow(0px 1px 2px rgba(0, 0, 0, 0.3));\n",
              "      fill: #FFFFFF;\n",
              "    }\n",
              "  </style>\n",
              "\n",
              "      <script>\n",
              "        const buttonEl =\n",
              "          document.querySelector('#df-4f865b6c-033b-4382-a72f-f9cc47d60aff button.colab-df-convert');\n",
              "        buttonEl.style.display =\n",
              "          google.colab.kernel.accessAllowed ? 'block' : 'none';\n",
              "\n",
              "        async function convertToInteractive(key) {\n",
              "          const element = document.querySelector('#df-4f865b6c-033b-4382-a72f-f9cc47d60aff');\n",
              "          const dataTable =\n",
              "            await google.colab.kernel.invokeFunction('convertToInteractive',\n",
              "                                                     [key], {});\n",
              "          if (!dataTable) return;\n",
              "\n",
              "          const docLinkHtml = 'Like what you see? Visit the ' +\n",
              "            '<a target=\"_blank\" href=https://colab.research.google.com/notebooks/data_table.ipynb>data table notebook</a>'\n",
              "            + ' to learn more about interactive tables.';\n",
              "          element.innerHTML = '';\n",
              "          dataTable['output_type'] = 'display_data';\n",
              "          await google.colab.output.renderOutput(dataTable, element);\n",
              "          const docLink = document.createElement('div');\n",
              "          docLink.innerHTML = docLinkHtml;\n",
              "          element.appendChild(docLink);\n",
              "        }\n",
              "      </script>\n",
              "    </div>\n",
              "  </div>\n",
              "  "
            ]
          },
          "metadata": {},
          "execution_count": 38
        }
      ]
    }
  ]
}